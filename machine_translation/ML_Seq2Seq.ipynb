{
 "cells": [
  {
   "cell_type": "markdown",
   "metadata": {},
   "source": [
    "# English-French Translation based on Tensorflow"
   ]
  },
  {
   "cell_type": "markdown",
   "metadata": {},
   "source": [
    "# 1 - Import packages"
   ]
  },
  {
   "cell_type": "code",
   "execution_count": 36,
   "metadata": {
    "scrolled": true
   },
   "outputs": [],
   "source": [
    "import warnings\n",
    "warnings.filterwarnings(\"ignore\")\n",
    "import numpy as np\n",
    "import tensorflow as tf\n",
    "import matplotlib.pyplot as plt\n",
    "import tqdm\n",
    "\n",
    "%matplotlib inline"
   ]
  },
  {
   "cell_type": "code",
   "execution_count": 4,
   "metadata": {},
   "outputs": [
    {
     "data": {
      "text/plain": [
       "'1.9.0'"
      ]
     },
     "execution_count": 4,
     "metadata": {},
     "output_type": "execute_result"
    }
   ],
   "source": [
    "tf.__version__"
   ]
  },
  {
   "cell_type": "markdown",
   "metadata": {},
   "source": [
    "## Parallel Corpus Loading and Data Analysis"
   ]
  },
  {
   "cell_type": "code",
   "execution_count": 6,
   "metadata": {},
   "outputs": [],
   "source": [
    "# English source data\n",
    "with open(\"data/small_vocab_en\", \"r\", encoding=\"utf-8\") as f:\n",
    "    source_text = f.read()\n",
    "\n",
    "# French target data\n",
    "with open(\"data/small_vocab_fr\", \"r\", encoding=\"utf-8\") as f:\n",
    "    target_text = f.read()"
   ]
  },
  {
   "cell_type": "code",
   "execution_count": 7,
   "metadata": {},
   "outputs": [
    {
     "data": {
      "text/plain": [
       "'new jersey is sometimes quiet during autumn , and it is snowy in april .\\nthe united states is usually chilly during july , and it is usually freezing in november .\\ncalifornia is usually quiet during march , and it is usually hot in june .\\nthe united states is sometimes mild during june , and it is cold in september .\\nyour least liked fruit is the grape , but my least liked is the apple .\\nhis favorite fruit is the orange , but my favorite is the grape .\\nparis is relaxing during december , but it '"
      ]
     },
     "execution_count": 7,
     "metadata": {},
     "output_type": "execute_result"
    }
   ],
   "source": [
    "source_text[:500]"
   ]
  },
  {
   "cell_type": "code",
   "execution_count": 8,
   "metadata": {},
   "outputs": [
    {
     "data": {
      "text/plain": [
       "\"new jersey est parfois calme pendant l' automne , et il est neigeux en avril .\\nles états-unis est généralement froid en juillet , et il gèle habituellement en novembre .\\ncalifornia est généralement calme en mars , et il est généralement chaud en juin .\\nles états-unis est parfois légère en juin , et il fait froid en septembre .\\nvotre moins aimé fruit est le raisin , mais mon moins aimé est la pomme .\\nson fruit préféré est l'orange , mais mon préféré est le raisin .\\nparis est relaxant en décembre \""
      ]
     },
     "execution_count": 8,
     "metadata": {},
     "output_type": "execute_result"
    }
   ],
   "source": [
    "target_text[0:500]"
   ]
  },
  {
   "cell_type": "code",
   "execution_count": 8,
   "metadata": {},
   "outputs": [
    {
     "name": "stdout",
     "output_type": "stream",
     "text": [
      "Dataset Stats\n",
      "Roughly the number of unique words: 227\n",
      "-----English Text-----\n",
      "Number of sentences: 137861\n",
      "Average number of words in a sentence: 13.225277634719028\n",
      "Max number of words in a sentence: 17\n",
      "\n",
      "-----French Text-----\n",
      "Number of sentences: 137861\n",
      "Average number of words in a sentence: 14.226612312401622\n",
      "Max number of words in a sentence: 23\n",
      "\n",
      "English sentences 0 to 10:\n",
      "new jersey is sometimes quiet during autumn , and it is snowy in april .\n",
      "the united states is usually chilly during july , and it is usually freezing in november .\n",
      "california is usually quiet during march , and it is usually hot in june .\n",
      "the united states is sometimes mild during june , and it is cold in september .\n",
      "your least liked fruit is the grape , but my least liked is the apple .\n",
      "his favorite fruit is the orange , but my favorite is the grape .\n",
      "paris is relaxing during december , but it is usually chilly in july .\n",
      "new jersey is busy during spring , and it is never hot in march .\n",
      "our least liked fruit is the lemon , but my least liked is the grape .\n",
      "the united states is sometimes busy during january , and it is sometimes warm in november .\n",
      "\n",
      "French sentences 0 to 10:\n",
      "new jersey est parfois calme pendant l' automne , et il est neigeux en avril .\n",
      "les états-unis est généralement froid en juillet , et il gèle habituellement en novembre .\n",
      "california est généralement calme en mars , et il est généralement chaud en juin .\n",
      "les états-unis est parfois légère en juin , et il fait froid en septembre .\n",
      "votre moins aimé fruit est le raisin , mais mon moins aimé est la pomme .\n",
      "son fruit préféré est l'orange , mais mon préféré est le raisin .\n",
      "paris est relaxant en décembre , mais il est généralement froid en juillet .\n",
      "new jersey est occupé au printemps , et il est jamais chaude en mars .\n",
      "notre fruit est moins aimé le citron , mais mon moins aimé est le raisin .\n",
      "les états-unis est parfois occupé en janvier , et il est parfois chaud en novembre .\n"
     ]
    }
   ],
   "source": [
    "view_sentence_range = (0, 10)\n",
    "\n",
    "print('Dataset Stats')\n",
    "print('Roughly the number of unique words: {}'.format(len({word: None for word in source_text.split()})))\n",
    "\n",
    "print(\"-\"*5 + \"English Text\" + \"-\"*5)\n",
    "sentences = source_text.split('\\n')\n",
    "word_counts = [len(sentence.split()) for sentence in sentences]\n",
    "print('Number of sentences: {}'.format(len(sentences)))\n",
    "print('Average number of words in a sentence: {}'.format(np.average(word_counts)))\n",
    "print('Max number of words in a sentence: {}'.format(np.max(word_counts)))\n",
    "\n",
    "print()\n",
    "print(\"-\"*5 + \"French Text\" + \"-\"*5)\n",
    "sentences = target_text.split('\\n')\n",
    "word_counts = [len(sentence.split()) for sentence in sentences]\n",
    "print('Number of sentences: {}'.format(len(sentences)))\n",
    "print('Average number of words in a sentence: {}'.format(np.average(word_counts)))\n",
    "print('Max number of words in a sentence: {}'.format(np.max(word_counts)))\n",
    "\n",
    "print()\n",
    "print('English sentences {} to {}:'.format(*view_sentence_range))\n",
    "print('\\n'.join(source_text.split('\\n')[view_sentence_range[0]:view_sentence_range[1]]))\n",
    "print()\n",
    "print('French sentences {} to {}:'.format(*view_sentence_range))\n",
    "print('\\n'.join(target_text.split('\\n')[view_sentence_range[0]:view_sentence_range[1]]))"
   ]
  },
  {
   "cell_type": "markdown",
   "metadata": {},
   "source": [
    "## Data Preprocessing\n",
    "#### 'I love machine learning and deep learning' is transfer to [28, 29, 274, 873, 12, 983, 873]"
   ]
  },
  {
   "cell_type": "code",
   "execution_count": 27,
   "metadata": {},
   "outputs": [],
   "source": [
    "# Build up a English dic\n",
    "source_vocab = list(set(source_text.lower().split()))\n",
    "# Build up a French dic\n",
    "target_vocab = list(set(target_text.lower().split()))"
   ]
  },
  {
   "cell_type": "code",
   "execution_count": 28,
   "metadata": {},
   "outputs": [
    {
     "name": "stdout",
     "output_type": "stream",
     "text": [
      "The size of English vocab is : 227\n",
      "The size of French vocab is : 354\n"
     ]
    }
   ],
   "source": [
    "print(\"The size of English vocab is : {}\".format(len(source_vocab)))\n",
    "print(\"The size of French vocab is : {}\".format(len(target_vocab)))"
   ]
  },
  {
   "cell_type": "code",
   "execution_count": 29,
   "metadata": {},
   "outputs": [],
   "source": [
    "# Special character\n",
    "SOURCE_CODES = ['<PAD>', '<UNK>']\n",
    "TARGET_CODES = ['<PAD>', '<EOS>', '<UNK>', '<GO>']"
   ]
  },
  {
   "cell_type": "code",
   "execution_count": 30,
   "metadata": {},
   "outputs": [],
   "source": [
    "source_vocab_to_int = {word: idx for idx, word in enumerate(SOURCE_CODES + source_vocab)}\n",
    "source_int_to_vocab = {idx: word for idx, word in enumerate(SOURCE_CODES + source_vocab)}\n",
    "\n",
    "target_vocab_to_int = {word: idx for idx, word in enumerate(TARGET_CODES + target_vocab)}\n",
    "target_int_to_vocab = {idx: word for idx, word in enumerate(TARGET_CODES + target_vocab)}"
   ]
  },
  {
   "cell_type": "code",
   "execution_count": 31,
   "metadata": {},
   "outputs": [
    {
     "data": {
      "text/plain": [
       "7"
      ]
     },
     "execution_count": 31,
     "metadata": {},
     "output_type": "execute_result"
    }
   ],
   "source": [
    "source_vocab_to_int['dry']"
   ]
  },
  {
   "cell_type": "code",
   "execution_count": 32,
   "metadata": {},
   "outputs": [
    {
     "data": {
      "text/plain": [
       "'dry'"
      ]
     },
     "execution_count": 32,
     "metadata": {},
     "output_type": "execute_result"
    }
   ],
   "source": [
    "source_int_to_vocab[7]"
   ]
  },
  {
   "cell_type": "code",
   "execution_count": 33,
   "metadata": {},
   "outputs": [
    {
     "name": "stdout",
     "output_type": "stream",
     "text": [
      "The size of English Map is : 229\n",
      "The size of French Map is : 358\n"
     ]
    }
   ],
   "source": [
    "print(\"The size of English Map is : {}\".format(len(source_vocab_to_int)))\n",
    "print(\"The size of French Map is : {}\".format(len(target_vocab_to_int)))"
   ]
  },
  {
   "cell_type": "markdown",
   "metadata": {},
   "source": [
    "## 2.4 - Corpus Transformation\n",
    "\n",
    "We can now use the dics above to perform coupus transformation. Since LSTM can only handle fix-size input data, we need to maintain the length of input corpus and output corpus. Let Tx = 20, sentences longer than 20 will be cut down\n",
    "\n",
    "”I love machine learning and deep learning\"，is transfer to [28, 29, 274, 873, 12, 983, 873, 0, 0, 0, 0, 0, 0, 0, 0, 0, 0, 0, 0, 0]\n"
   ]
  },
  {
   "cell_type": "code",
   "execution_count": 34,
   "metadata": {},
   "outputs": [],
   "source": [
    "def text_to_int(sentence, map_dict, max_length=20, is_target=False):\n",
    "    \"\"\"\n",
    "    \n",
    "    @param sentence: \n",
    "    @param map_dict: vocab to dict\n",
    "    @param max_length: max sentence length\n",
    "    @param is_target: if is target sentence, we need to add <EOS> behind the sentence\n",
    "    \"\"\"\n",
    "    \n",
    "    text_to_idx = []\n",
    "    # unk index\n",
    "    unk_idx = map_dict.get(\"<UNK>\")\n",
    "    pad_idx = map_dict.get(\"<PAD>\")\n",
    "    eos_idx = map_dict.get(\"<EOS>\")\n",
    "    \n",
    "    if not is_target:\n",
    "        for word in sentence.lower().split():\n",
    "            text_to_idx.append(map_dict.get(word, unk_idx))\n",
    "    \n",
    "    else:\n",
    "        for word in sentence.lower().split():\n",
    "            text_to_idx.append(map_dict.get(word, unk_idx))\n",
    "        text_to_idx.append(eos_idx)\n",
    "    \n",
    "    # cut down\n",
    "    if len(text_to_idx) > max_length:\n",
    "        return text_to_idx[:max_length]\n",
    "    \n",
    "    # shorter than 20 add<PAD>\n",
    "    else:\n",
    "        text_to_idx = text_to_idx + [pad_idx] * (max_length - len(text_to_idx))\n",
    "        return text_to_idx"
   ]
  },
  {
   "cell_type": "code",
   "execution_count": 37,
   "metadata": {},
   "outputs": [
    {
     "name": "stderr",
     "output_type": "stream",
     "text": [
      "100%|██████████| 137861/137861 [00:02<00:00, 48551.29it/s]\n"
     ]
    }
   ],
   "source": [
    "# Transformation of English sentences\n",
    "source_text_to_int = []\n",
    "\n",
    "for sentence in tqdm.tqdm(source_text.split(\"\\n\")):\n",
    "    source_text_to_int.append(text_to_int(sentence, source_vocab_to_int, 20, \n",
    "                                          is_target=False))"
   ]
  },
  {
   "cell_type": "code",
   "execution_count": 38,
   "metadata": {},
   "outputs": [
    {
     "name": "stderr",
     "output_type": "stream",
     "text": [
      "100%|██████████| 137861/137861 [00:03<00:00, 37772.26it/s]\n"
     ]
    }
   ],
   "source": [
    "# Transformation of French sentences\n",
    "target_text_to_int = []\n",
    "\n",
    "for sentence in tqdm.tqdm(target_text.split(\"\\n\")):\n",
    "    target_text_to_int.append(text_to_int(sentence, target_vocab_to_int, 25, \n",
    "                                          is_target=True))"
   ]
  },
  {
   "cell_type": "code",
   "execution_count": 39,
   "metadata": {},
   "outputs": [
    {
     "name": "stdout",
     "output_type": "stream",
     "text": [
      "-----English example-----\n",
      "the united states is never beautiful during march , and it is usually relaxing in summer .\n",
      "[168, 48, 71, 80, 204, 192, 158, 100, 36, 218, 130, 80, 96, 22, 206, 159, 126, 0, 0, 0]\n",
      "\n",
      "-----French example-----\n",
      "les états-unis est jamais belle en mars , et il est relaxant habituellement en été .\n",
      "[357, 333, 223, 116, 327, 294, 48, 276, 45, 299, 223, 111, 307, 294, 31, 225, 1, 0, 0, 0, 0, 0, 0, 0, 0]\n"
     ]
    }
   ],
   "source": [
    "random_index = 77\n",
    "\n",
    "print(\"-\"*5 + \"English example\" + \"-\"*5)\n",
    "print(source_text.split(\"\\n\")[random_index])\n",
    "print(source_text_to_int[random_index])\n",
    "\n",
    "print()\n",
    "print(\"-\"*5 + \"French example\" + \"-\"*5)\n",
    "print(target_text.split(\"\\n\")[random_index])\n",
    "print(target_text_to_int[random_index])"
   ]
  },
  {
   "cell_type": "code",
   "execution_count": 40,
   "metadata": {},
   "outputs": [],
   "source": [
    "X = np.array(source_text_to_int)\n",
    "Y = np.array(target_text_to_int)"
   ]
  },
  {
   "cell_type": "code",
   "execution_count": 41,
   "metadata": {},
   "outputs": [
    {
     "data": {
      "text/plain": [
       "array([[ 77, 201,  80, ...,   0,   0,   0],\n",
       "       [168,  48,  71, ...,   0,   0,   0],\n",
       "       [170,  80,  96, ...,   0,   0,   0],\n",
       "       ...,\n",
       "       [182,  80, 204, ...,   0,   0,   0],\n",
       "       [168,  32,  80, ...,   0,   0,   0],\n",
       "       [  0,   0,   0, ...,   0,   0,   0]])"
      ]
     },
     "execution_count": 41,
     "metadata": {},
     "output_type": "execute_result"
    }
   ],
   "source": [
    "X"
   ]
  },
  {
   "cell_type": "markdown",
   "metadata": {},
   "source": [
    "#  Building Model\n",
    "\n",
    "- model_inputs\n",
    "- Encoder, encoder_layer\n",
    "- Decoder\n",
    "    - decoder_layer_inputs\n",
    "    - decoder_layer_train\n",
    "    - decoder_layer_inference(inference and prediction)\n",
    "- Final Seq2Seq Model"
   ]
  },
  {
   "cell_type": "markdown",
   "metadata": {},
   "source": [
    "## B.1 - model input"
   ]
  },
  {
   "cell_type": "code",
   "execution_count": 42,
   "metadata": {},
   "outputs": [],
   "source": [
    "#Initialize some tensors, used as model input\n",
    "def model_inputs():\n",
    "    \"\"\"\n",
    "    \n",
    "    return：inputs, targets, learning_rate, source_sequence_len, target_sequence_len, max_target_sequence_len\n",
    "    \"\"\"\n",
    "    inputs = tf.placeholder(tf.int32, [None, None], name=\"inputs\")\n",
    "    targets = tf.placeholder(tf.int32, [None, None], name=\"targets\")\n",
    "    learning_rate = tf.placeholder(tf.float32, name=\"learning_rate\")\n",
    "    \n",
    "    source_sequence_len = tf.placeholder(tf.int32, (None,), name=\"source_sequence_len\")\n",
    "    target_sequence_len = tf.placeholder(tf.int32, (None,), name=\"target_sequence_len\")\n",
    "    max_target_sequence_len = tf.placeholder(tf.int32, (None,), name=\"max_target_sequence_len\")\n",
    "    \n",
    "    return inputs, targets, learning_rate, source_sequence_len, target_sequence_len, max_target_sequence_len"
   ]
  },
  {
   "cell_type": "markdown",
   "metadata": {},
   "source": [
    "## B.2 - Encoder"
   ]
  },
  {
   "cell_type": "code",
   "execution_count": 44,
   "metadata": {},
   "outputs": [],
   "source": [
    "# # Build RNN cell\n",
    "# encoder_cell = tf.nn.rnn_cell.BasicLSTMCell(num_units)\n",
    "\n",
    "# # Run Dynamic RNN\n",
    "# #   encoder_outputs: [max_time, batch_size, num_units]\n",
    "# #   encoder_state: [batch_size, num_units]\n",
    "# encoder_outputs, encoder_state = tf.nn.dynamic_rnn(\n",
    "#     encoder_cell, encoder_emb_inp,\n",
    "#     sequence_length=source_sequence_length, time_major=True)\n",
    "\n",
    "\n",
    "\n",
    "def encoder_layer(rnn_inputs, rnn_size, rnn_num_layers,\n",
    "                  source_sequence_len, source_vocab_size, encoder_embedding_size=100):\n",
    "    \"\"\"\n",
    "    Build up the Encoder\n",
    "    \n",
    "    @param rnn_inputs: input of rnn\n",
    "    @param rnn_size: the number of node in rnn\n",
    "    @param rnn_num_layers: the number of layers of rnn\n",
    "    @param source_sequence_len\n",
    "    @param source_vocab_size\n",
    "    @param encoder_embedding_size: the size of vector after embeding for each words \n",
    "    \"\"\"\n",
    "    # For the vocab in input sentences, do embeding: https://www.tensorflow.org/api_docs/python/tf/contrib/layers/embed_sequence\n",
    "    # \n",
    "    encoder_embed = tf.contrib.layers.embed_sequence(rnn_inputs, source_vocab_size, encoder_embedding_size)\n",
    "    \n",
    "    # LSTM Cell\n",
    "    def get_lstm(rnn_size):\n",
    "        lstm = tf.contrib.rnn.LSTMCell(rnn_size, initializer=tf.random_uniform_initializer(-0.1, 0.1, seed=123))\n",
    "        return lstm\n",
    "    \n",
    "    # multi layer LSTM\n",
    "    lstms = tf.contrib.rnn.MultiRNNCell([get_lstm(rnn_size) for _ in range(rnn_num_layers)])\n",
    "    encoder_outputs, encoder_states = tf.nn.dynamic_rnn(lstms, encoder_embed, source_sequence_len, \n",
    "                                                        dtype=tf.float32)\n",
    "    \n",
    "    return encoder_outputs, encoder_states"
   ]
  },
  {
   "cell_type": "markdown",
   "metadata": {},
   "source": [
    "## B.3 - Decoder\n",
    "\n",
    "### B.3.1 - Decoder Layer Inputs"
   ]
  },
  {
   "cell_type": "code",
   "execution_count": 45,
   "metadata": {},
   "outputs": [],
   "source": [
    "def decoder_layer_inputs(target_data, target_vocab_to_int, batch_size):\n",
    "    \"\"\"\n",
    "    Preprocessing towards the input of decoder\n",
    "    \n",
    "    @param target_data: the tensor of French \n",
    "    @param target_vocab_to_int\n",
    "    @param batch_size: batch size\n",
    "    \"\"\"\n",
    "    # one batch has several sentences, eliminate last word in each sentences\n",
    "    ending = tf.strided_slice(target_data, [0, 0], [batch_size, -1], [1, 1])#https://blog.csdn.net/banana1006034246/article/details/75092388\n",
    "    # add”<GO>\" in the front of every input sentences\n",
    "    decoder_inputs = tf.concat([tf.fill([batch_size, 1], target_vocab_to_int[\"<GO>\"]), \n",
    "                                ending], 1)\n",
    "    \n",
    "    return decoder_inputs"
   ]
  },
  {
   "cell_type": "markdown",
   "metadata": {},
   "source": [
    "### B.3.2 - Decoder Traing\n",
    "\n",
    "#### Here, implement Teacher Forcing to optimize training "
   ]
  },
  {
   "cell_type": "code",
   "execution_count": 46,
   "metadata": {},
   "outputs": [],
   "source": [
    "def decoder_layer_train(encoder_states, decoder_cell, decoder_embed,\n",
    "                        target_sequence_len, max_target_sequence_len, output_layer):\n",
    "    \n",
    "    \"\"\"\n",
    "    \n",
    "    \n",
    "    @param encoder_states: Context Vector from encoder\n",
    "    @param decoder_cell: Decoder cell that will build in B.3.4 \n",
    "    @param decoder_embed: embing vector of the decoder input word\n",
    "    @param target_sequence_len\n",
    "    @param max_target_sequence_len\n",
    "    @param output_layer\n",
    "    \"\"\"\n",
    "    \n",
    "    # An object used to form training decoder\n",
    "    training_helper = tf.contrib.seq2seq.TrainingHelper(inputs=decoder_embed,\n",
    "                                                       sequence_length=target_sequence_len,\n",
    "                                                       time_major=False)\n",
    "    \n",
    "    training_decoder = tf.contrib.seq2seq.BasicDecoder(decoder_cell,\n",
    "                                                      training_helper,\n",
    "                                                      encoder_states,\n",
    "                                                      output_layer)\n",
    "    \n",
    "    training_decoder_outputs, _, _ = tf.contrib.seq2seq.dynamic_decode(training_decoder,\n",
    "                                                                  impute_finished=True,\n",
    "                                                                  maximum_iterations=max_target_sequence_len)\n",
    "    #Python boolean. If True, then states for batch entries which are marked as \n",
    "    #finished get copied through and the corresponding outputs get zeroed out.\n",
    "    \n",
    "    return training_decoder_outputs"
   ]
  },
  {
   "cell_type": "markdown",
   "metadata": {},
   "source": [
    "### B.3.3 - Decoder Inference"
   ]
  },
  {
   "cell_type": "code",
   "execution_count": 47,
   "metadata": {},
   "outputs": [],
   "source": [
    "def decoder_layer_infer(encoder_states, decoder_cell, decoder_embed, start_id, end_id, \n",
    "                        max_target_sequence_len, output_layer, batch_size):\n",
    "    \"\"\"\n",
    "    Decoder prediction\n",
    "    \n",
    "    @param encoder_states: Context Vector from encoder\n",
    "    @param decoder_cell: Decoder cell that will build in B.3.4\n",
    "    @param decoder_embed: embing vector of the decoder input word\n",
    "    @param start_id: the token id of start word in a sentence，\"<GO>\"\n",
    "    @param end_id: the token id of end word in a sentence，，\"<EOS>\"\n",
    "    @param max_target_sequence_len\n",
    "    @param output_layer\n",
    "    @batch_size: batch size\n",
    "    \"\"\"\n",
    "    #tf.tile used as tensor expansion\n",
    "    start_tokens = tf.tile(tf.constant([start_id], dtype=tf.int32), [batch_size], name=\"start_tokens\")#https://blog.csdn.net/loseinvain/article/details/78994615\n",
    "    \n",
    "    inference_helper = tf.contrib.seq2seq.GreedyEmbeddingHelper(decoder_embed,\n",
    "                                                                start_tokens,\n",
    "                                                                end_id) # similar with tf.contrib.seq2seq.TrainingHelper\n",
    "    \n",
    "    inference_decoder = tf.contrib.seq2seq.BasicDecoder(decoder_cell,\n",
    "                                                       inference_helper,\n",
    "                                                       encoder_states,\n",
    "                                                       output_layer)\n",
    "    \n",
    "    inference_decoder_outputs, _, _ = tf.contrib.seq2seq.dynamic_decode(inference_decoder,\n",
    "                                                                      impute_finished=True,\n",
    "                                                                      maximum_iterations=max_target_sequence_len)\n",
    "    \n",
    "    return inference_decoder_outputs\n",
    "    "
   ]
  },
  {
   "cell_type": "markdown",
   "metadata": {},
   "source": [
    "### B.3.4 - Decoder Layer"
   ]
  },
  {
   "cell_type": "code",
   "execution_count": 48,
   "metadata": {},
   "outputs": [],
   "source": [
    "# The integration of those three function above\n",
    "def decoder_layer(encoder_states, decoder_inputs, target_sequence_len, \n",
    "                   max_target_sequence_len, rnn_size, rnn_num_layers,\n",
    "                   target_vocab_to_int, target_vocab_size, decoder_embedding_size, batch_size):\n",
    "    \"\"\"\n",
    "    Build up final decoder    \n",
    "        \n",
    "    @param encoder_states: Context Vector from encoder\n",
    "    @param decoder_inputs\n",
    "    @param target_sequence_len\n",
    "    @param max_target_sequence_len\n",
    "    @param rnn_size: number of nodes in rnn cell\n",
    "    @param rnn_num_layers\n",
    "    @param target_vocab_to_int\n",
    "    @param target_vocab_size\n",
    "    @param decoder_embedding_size\n",
    "    @param batch_size\n",
    "    \"\"\"\n",
    "    #do embedding to the decoder_inputs( <Go> I like machine learning )\n",
    "    decoder_embeddings = tf.Variable(tf.random_uniform([target_vocab_size, decoder_embedding_size]))\n",
    "    decoder_embed = tf.nn.embedding_lookup(decoder_embeddings, decoder_inputs)\n",
    "    \n",
    "    def get_lstm(rnn_size):\n",
    "        lstm = tf.contrib.rnn.LSTMCell(rnn_size, initializer=tf.random_uniform_initializer(-0.1, 0.1, seed=456))\n",
    "        return lstm#build up lstmCell for one layer\n",
    "    \n",
    "    decoder_cell = tf.contrib.rnn.MultiRNNCell([get_lstm(rnn_size) for _ in range(rnn_num_layers)])\n",
    "    \n",
    "    # output_layer logits\n",
    "    output_layer = tf.layers.Dense(target_vocab_size)\n",
    "    \n",
    "    with tf.variable_scope(\"decoder\"):\n",
    "        training_logits = decoder_layer_train(encoder_states,\n",
    "                                               decoder_cell,\n",
    "                                               decoder_embed,\n",
    "                                               target_sequence_len,\n",
    "                                               max_target_sequence_len,\n",
    "                                               output_layer)\n",
    "    \n",
    "    with tf.variable_scope(\"decoder\", reuse=True):\n",
    "        inference_logits = decoder_layer_infer(encoder_states,\n",
    "                                               decoder_cell,\n",
    "                                               decoder_embeddings,\n",
    "                                               target_vocab_to_int[\"<GO>\"],\n",
    "                                               target_vocab_to_int[\"<EOS>\"],\n",
    "                                                max_target_sequence_len,\n",
    "                                                output_layer,\n",
    "                                                batch_size)#use embeddings because when infer, we do not know real label\n",
    "    \n",
    "    return training_logits, inference_logits"
   ]
  },
  {
   "cell_type": "markdown",
   "metadata": {},
   "source": [
    "## 3.3 - Seq2Seq模型"
   ]
  },
  {
   "cell_type": "code",
   "execution_count": 49,
   "metadata": {},
   "outputs": [],
   "source": [
    "def seq2seq_model(input_data, target_data, batch_size,\n",
    "                 source_sequence_len, target_sequence_len, max_target_sentence_len,\n",
    "                 source_vocab_size, target_vocab_size,\n",
    "                 encoder_embedding_size, decoder_embeding_size,\n",
    "                 rnn_size, rnn_num_layers, target_vocab_to_int):\n",
    "    \n",
    "    \"\"\"\n",
    "    Build up Seq2Seq by integrate previous encoder and decoder\n",
    "    \n",
    "    @param input_data: tensor of input data\n",
    "    @param target_data: tensor of target data\n",
    "    @param batch_size: batch size\n",
    "    @param source_sequence_len\n",
    "    @param target_sequence_len\n",
    "    @param max_target_sentence_len\n",
    "    @param source_vocab_size\n",
    "    @param target_vocab_size\n",
    "    @param encoder_embedding_size\n",
    "    @param decoder_embedding_size\n",
    "    @param rnn_size: number of nodes in rnn cell\n",
    "    @param rnn_num_layers\n",
    "    @param target_vocab_to_int\n",
    "    \"\"\"\n",
    "    _, encoder_states = encoder_layer(input_data, rnn_size, rnn_num_layers, source_sequence_len, \n",
    "                                      source_vocab_size, encoder_embedding_size)\n",
    "    \n",
    "    decoder_inputs = decoder_layer_inputs(target_data, target_vocab_to_int, batch_size)\n",
    "    \n",
    "    training_decoder_outputs, inference_decoder_outputs = decoder_layer(encoder_states,\n",
    "                                                                       decoder_inputs,\n",
    "                                                                      target_sequence_len,\n",
    "                                                                       max_target_sentence_len,\n",
    "                                                                      rnn_size,\n",
    "                                                                      rnn_num_layers,\n",
    "                                                                      target_vocab_to_int,\n",
    "                                                                      target_vocab_size,\n",
    "                                                                      decoder_embeding_size,\n",
    "                                                                       batch_size)\n",
    "    return training_decoder_outputs, inference_decoder_outputs"
   ]
  },
  {
   "cell_type": "markdown",
   "metadata": {},
   "source": [
    "# Training Model"
   ]
  },
  {
   "cell_type": "markdown",
   "metadata": {},
   "source": [
    "## T.1 - Parameter"
   ]
  },
  {
   "cell_type": "code",
   "execution_count": 51,
   "metadata": {},
   "outputs": [],
   "source": [
    "# Number of Epochs\n",
    "epochs = 10\n",
    "# Batch Size\n",
    "batch_size = 128\n",
    "# RNN Size\n",
    "rnn_size = 128\n",
    "# Number of Layers\n",
    "rnn_num_layers = 1\n",
    "# Embedding Size\n",
    "encoder_embedding_size = 100\n",
    "decoder_embedding_size = 100\n",
    "# Learning Rate\n",
    "lr = 0.001\n",
    "# Print out cycle\n",
    "display_step = 50"
   ]
  },
  {
   "cell_type": "markdown",
   "metadata": {},
   "source": [
    "## T.2 - Build Graph"
   ]
  },
  {
   "cell_type": "code",
   "execution_count": 52,
   "metadata": {},
   "outputs": [],
   "source": [
    "\n",
    "train_graph = tf.Graph()\n",
    "\n",
    "with train_graph.as_default():\n",
    "    inputs, targets, learning_rate, source_sequence_len, target_sequence_len, _ = model_inputs()\n",
    "    \n",
    "    max_target_sequence_len = 25\n",
    "    train_logits, inference_logits = seq2seq_model(tf.reverse(inputs, [-1]),\n",
    "                                                  targets,\n",
    "                                                  batch_size,\n",
    "                                                  source_sequence_len,\n",
    "                                                  target_sequence_len,\n",
    "                                                  max_target_sequence_len,\n",
    "                                                  len(source_vocab_to_int),\n",
    "                                                  len(target_vocab_to_int),\n",
    "                                                  encoder_embedding_size,\n",
    "                                                  decoder_embedding_size,\n",
    "                                                  rnn_size,\n",
    "                                                  rnn_num_layers,\n",
    "                                                  target_vocab_to_int)\n",
    "    \n",
    "    training_logits = tf.identity(train_logits.rnn_output, name=\"logits\")#identity used to copy a same tensor as input tensor \n",
    "    inference_logits = tf.identity(inference_logits.sample_id, name=\"predictions\")\n",
    "    \n",
    "    masks = tf.sequence_mask(target_sequence_len, max_target_sequence_len, dtype=tf.float32, name=\"masks\")\n",
    "#     tf.sequence_mask([1, 3, 2], 5)  # [[True, False, False, False, False],\n",
    "#                                 #  [True, True, True, False, False],\n",
    "#                                 #  [True, True, False, False, False]]\n",
    "    \n",
    "    #gradient descent \n",
    "    with tf.name_scope(\"optimization\"):\n",
    "        cost = tf.contrib.seq2seq.sequence_loss(training_logits, targets, masks)\n",
    "        \n",
    "        optimizer = tf.train.AdamOptimizer(learning_rate)\n",
    "        \n",
    "        gradients = optimizer.compute_gradients(cost)\n",
    "#       Given a tensor t, this operation returns a tensor of the same type and shape as t with \n",
    "#       its values clipped to clip_value_min and clip_value_max. Any values less than clip_value_min \n",
    "#       are set to clip_value_min. Any values greater than clip_value_max are set to clip_value_max.\n",
    "        clipped_gradients = [(tf.clip_by_value(grad, -1., 1.), var) for grad, var in gradients if grad is not None]\n",
    "        train_op = optimizer.apply_gradients(clipped_gradients)"
   ]
  },
  {
   "cell_type": "markdown",
   "metadata": {},
   "source": [
    "## B.3 - Train Model"
   ]
  },
  {
   "cell_type": "code",
   "execution_count": 52,
   "metadata": {},
   "outputs": [],
   "source": [
    "def get_batches(sources, targets, batch_size):\n",
    "\n",
    "    for batch_i in range(0, len(sources)//batch_size):\n",
    "        start_i = batch_i * batch_size\n",
    "\n",
    "        # Slice the right amount for the batch\n",
    "        sources_batch = sources[start_i:start_i + batch_size]\n",
    "        targets_batch = targets[start_i:start_i + batch_size]\n",
    "        \n",
    "        # Need the lengths for the _lengths parameters\n",
    "        targets_lengths = []\n",
    "        for target in targets_batch:\n",
    "            targets_lengths.append(len(target))\n",
    "\n",
    "        source_lengths = []\n",
    "        for source in sources_batch:\n",
    "            source_lengths.append(len(source))\n",
    "\n",
    "        yield sources_batch, targets_batch, source_lengths, targets_lengths"
   ]
  },
  {
   "cell_type": "code",
   "execution_count": 54,
   "metadata": {
    "scrolled": true
   },
   "outputs": [
    {
     "name": "stdout",
     "output_type": "stream",
     "text": [
      "Epoch   0 Batch   50/1077 - Loss: 2.4797\n",
      "Epoch   0 Batch  100/1077 - Loss: 2.0935\n",
      "Epoch   0 Batch  150/1077 - Loss: 1.7045\n",
      "Epoch   0 Batch  200/1077 - Loss: 1.3225\n",
      "Epoch   0 Batch  250/1077 - Loss: 1.0670\n",
      "Epoch   0 Batch  300/1077 - Loss: 0.8785\n",
      "Epoch   0 Batch  350/1077 - Loss: 0.8020\n",
      "Epoch   0 Batch  400/1077 - Loss: 0.7552\n",
      "Epoch   0 Batch  450/1077 - Loss: 0.7071\n",
      "Epoch   0 Batch  500/1077 - Loss: 0.6214\n",
      "Epoch   0 Batch  550/1077 - Loss: 0.6254\n",
      "Epoch   0 Batch  600/1077 - Loss: 0.5923\n",
      "Epoch   0 Batch  650/1077 - Loss: 0.5505\n",
      "Epoch   0 Batch  700/1077 - Loss: 0.4917\n",
      "Epoch   0 Batch  750/1077 - Loss: 0.4815\n",
      "Epoch   0 Batch  800/1077 - Loss: 0.4748\n",
      "Epoch   0 Batch  850/1077 - Loss: 0.3945\n",
      "Epoch   0 Batch  900/1077 - Loss: 0.4011\n",
      "Epoch   0 Batch  950/1077 - Loss: 0.3432\n",
      "Epoch   0 Batch 1000/1077 - Loss: 0.3491\n",
      "Epoch   0 Batch 1050/1077 - Loss: 0.3317\n",
      "Epoch   1 Batch   50/1077 - Loss: 0.3067\n",
      "Epoch   1 Batch  100/1077 - Loss: 0.2766\n",
      "Epoch   1 Batch  150/1077 - Loss: 0.2458\n",
      "Epoch   1 Batch  200/1077 - Loss: 0.2216\n",
      "Epoch   1 Batch  250/1077 - Loss: 0.2142\n",
      "Epoch   1 Batch  300/1077 - Loss: 0.2023\n",
      "Epoch   1 Batch  350/1077 - Loss: 0.1827\n",
      "Epoch   1 Batch  400/1077 - Loss: 0.1701\n",
      "Epoch   1 Batch  450/1077 - Loss: 0.1721\n",
      "Epoch   1 Batch  500/1077 - Loss: 0.1425\n",
      "Epoch   1 Batch  550/1077 - Loss: 0.1686\n",
      "Epoch   1 Batch  600/1077 - Loss: 0.1545\n",
      "Epoch   1 Batch  650/1077 - Loss: 0.1393\n",
      "Epoch   1 Batch  700/1077 - Loss: 0.1142\n",
      "Epoch   1 Batch  750/1077 - Loss: 0.1224\n",
      "Epoch   1 Batch  800/1077 - Loss: 0.1281\n",
      "Epoch   1 Batch  850/1077 - Loss: 0.0894\n",
      "Epoch   1 Batch  900/1077 - Loss: 0.1019\n",
      "Epoch   1 Batch  950/1077 - Loss: 0.0833\n",
      "Epoch   1 Batch 1000/1077 - Loss: 0.0937\n",
      "Epoch   1 Batch 1050/1077 - Loss: 0.0953\n",
      "Epoch   2 Batch   50/1077 - Loss: 0.0839\n",
      "Epoch   2 Batch  100/1077 - Loss: 0.0784\n",
      "Epoch   2 Batch  150/1077 - Loss: 0.0715\n",
      "Epoch   2 Batch  200/1077 - Loss: 0.0630\n",
      "Epoch   2 Batch  250/1077 - Loss: 0.0666\n",
      "Epoch   2 Batch  300/1077 - Loss: 0.0706\n",
      "Epoch   2 Batch  350/1077 - Loss: 0.0592\n",
      "Epoch   2 Batch  400/1077 - Loss: 0.0572\n",
      "Epoch   2 Batch  450/1077 - Loss: 0.0619\n",
      "Epoch   2 Batch  500/1077 - Loss: 0.0493\n",
      "Epoch   2 Batch  550/1077 - Loss: 0.0713\n",
      "Epoch   2 Batch  600/1077 - Loss: 0.0696\n",
      "Epoch   2 Batch  650/1077 - Loss: 0.0550\n",
      "Epoch   2 Batch  700/1077 - Loss: 0.0496\n",
      "Epoch   2 Batch  750/1077 - Loss: 0.0552\n",
      "Epoch   2 Batch  800/1077 - Loss: 0.0605\n",
      "Epoch   2 Batch  850/1077 - Loss: 0.0382\n",
      "Epoch   2 Batch  900/1077 - Loss: 0.0496\n",
      "Epoch   2 Batch  950/1077 - Loss: 0.0405\n",
      "Epoch   2 Batch 1000/1077 - Loss: 0.0504\n",
      "Epoch   2 Batch 1050/1077 - Loss: 0.0505\n",
      "Epoch   3 Batch   50/1077 - Loss: 0.0471\n",
      "Epoch   3 Batch  100/1077 - Loss: 0.0396\n",
      "Epoch   3 Batch  150/1077 - Loss: 0.0398\n",
      "Epoch   3 Batch  200/1077 - Loss: 0.0350\n",
      "Epoch   3 Batch  250/1077 - Loss: 0.0373\n",
      "Epoch   3 Batch  300/1077 - Loss: 0.0420\n",
      "Epoch   3 Batch  350/1077 - Loss: 0.0346\n",
      "Epoch   3 Batch  400/1077 - Loss: 0.0334\n",
      "Epoch   3 Batch  450/1077 - Loss: 0.0367\n",
      "Epoch   3 Batch  500/1077 - Loss: 0.0303\n",
      "Epoch   3 Batch  550/1077 - Loss: 0.0431\n",
      "Epoch   3 Batch  600/1077 - Loss: 0.0450\n",
      "Epoch   3 Batch  650/1077 - Loss: 0.0312\n",
      "Epoch   3 Batch  700/1077 - Loss: 0.0308\n",
      "Epoch   3 Batch  750/1077 - Loss: 0.0320\n",
      "Epoch   3 Batch  800/1077 - Loss: 0.0379\n",
      "Epoch   3 Batch  850/1077 - Loss: 0.0248\n",
      "Epoch   3 Batch  900/1077 - Loss: 0.0331\n",
      "Epoch   3 Batch  950/1077 - Loss: 0.0269\n",
      "Epoch   3 Batch 1000/1077 - Loss: 0.0342\n",
      "Epoch   3 Batch 1050/1077 - Loss: 0.0326\n",
      "Epoch   4 Batch   50/1077 - Loss: 0.0333\n",
      "Epoch   4 Batch  100/1077 - Loss: 0.0255\n",
      "Epoch   4 Batch  150/1077 - Loss: 0.0256\n",
      "Epoch   4 Batch  200/1077 - Loss: 0.0239\n",
      "Epoch   4 Batch  250/1077 - Loss: 0.0244\n",
      "Epoch   4 Batch  300/1077 - Loss: 0.0292\n",
      "Epoch   4 Batch  350/1077 - Loss: 0.0242\n",
      "Epoch   4 Batch  400/1077 - Loss: 0.0236\n",
      "Epoch   4 Batch  450/1077 - Loss: 0.0264\n",
      "Epoch   4 Batch  500/1077 - Loss: 0.0220\n",
      "Epoch   4 Batch  550/1077 - Loss: 0.0291\n",
      "Epoch   4 Batch  600/1077 - Loss: 0.0345\n",
      "Epoch   4 Batch  650/1077 - Loss: 0.0209\n",
      "Epoch   4 Batch  700/1077 - Loss: 0.0205\n",
      "Epoch   4 Batch  750/1077 - Loss: 0.0208\n",
      "Epoch   4 Batch  800/1077 - Loss: 0.0282\n",
      "Epoch   4 Batch  850/1077 - Loss: 0.0177\n",
      "Epoch   4 Batch  900/1077 - Loss: 0.0238\n",
      "Epoch   4 Batch  950/1077 - Loss: 0.0196\n",
      "Epoch   4 Batch 1000/1077 - Loss: 0.0256\n",
      "Epoch   4 Batch 1050/1077 - Loss: 0.0241\n",
      "Epoch   5 Batch   50/1077 - Loss: 0.0262\n",
      "Epoch   5 Batch  100/1077 - Loss: 0.0170\n",
      "Epoch   5 Batch  150/1077 - Loss: 0.0182\n",
      "Epoch   5 Batch  200/1077 - Loss: 0.0183\n",
      "Epoch   5 Batch  250/1077 - Loss: 0.0192\n",
      "Epoch   5 Batch  300/1077 - Loss: 0.0227\n",
      "Epoch   5 Batch  350/1077 - Loss: 0.0191\n",
      "Epoch   5 Batch  400/1077 - Loss: 0.0182\n",
      "Epoch   5 Batch  450/1077 - Loss: 0.0206\n",
      "Epoch   5 Batch  500/1077 - Loss: 0.0171\n",
      "Epoch   5 Batch  550/1077 - Loss: 0.0211\n",
      "Epoch   5 Batch  600/1077 - Loss: 0.0290\n",
      "Epoch   5 Batch  650/1077 - Loss: 0.0136\n",
      "Epoch   5 Batch  700/1077 - Loss: 0.0141\n",
      "Epoch   5 Batch  750/1077 - Loss: 0.0149\n",
      "Epoch   5 Batch  800/1077 - Loss: 0.0222\n",
      "Epoch   5 Batch  850/1077 - Loss: 0.0142\n",
      "Epoch   5 Batch  900/1077 - Loss: 0.0179\n",
      "Epoch   5 Batch  950/1077 - Loss: 0.0155\n",
      "Epoch   5 Batch 1000/1077 - Loss: 0.0208\n",
      "Epoch   5 Batch 1050/1077 - Loss: 0.0191\n",
      "Epoch   6 Batch   50/1077 - Loss: 0.0211\n",
      "Epoch   6 Batch  100/1077 - Loss: 0.0135\n",
      "Epoch   6 Batch  150/1077 - Loss: 0.0126\n",
      "Epoch   6 Batch  200/1077 - Loss: 0.0149\n",
      "Epoch   6 Batch  250/1077 - Loss: 0.0159\n",
      "Epoch   6 Batch  300/1077 - Loss: 0.0172\n",
      "Epoch   6 Batch  350/1077 - Loss: 0.0152\n",
      "Epoch   6 Batch  400/1077 - Loss: 0.0145\n",
      "Epoch   6 Batch  450/1077 - Loss: 0.0163\n",
      "Epoch   6 Batch  500/1077 - Loss: 0.0132\n",
      "Epoch   6 Batch  550/1077 - Loss: 0.0168\n",
      "Epoch   6 Batch  600/1077 - Loss: 0.0243\n",
      "Epoch   6 Batch  650/1077 - Loss: 0.0100\n",
      "Epoch   6 Batch  700/1077 - Loss: 0.0113\n",
      "Epoch   6 Batch  750/1077 - Loss: 0.0115\n",
      "Epoch   6 Batch  800/1077 - Loss: 0.0188\n",
      "Epoch   6 Batch  850/1077 - Loss: 0.0127\n",
      "Epoch   6 Batch  900/1077 - Loss: 0.0144\n",
      "Epoch   6 Batch  950/1077 - Loss: 0.0143\n",
      "Epoch   6 Batch 1000/1077 - Loss: 0.0174\n",
      "Epoch   6 Batch 1050/1077 - Loss: 0.0144\n",
      "Epoch   7 Batch   50/1077 - Loss: 0.0179\n",
      "Epoch   7 Batch  100/1077 - Loss: 0.0115\n",
      "Epoch   7 Batch  150/1077 - Loss: 0.0102\n",
      "Epoch   7 Batch  200/1077 - Loss: 0.0124\n",
      "Epoch   7 Batch  250/1077 - Loss: 0.0134\n",
      "Epoch   7 Batch  300/1077 - Loss: 0.0137\n",
      "Epoch   7 Batch  350/1077 - Loss: 0.0124\n",
      "Epoch   7 Batch  400/1077 - Loss: 0.0124\n",
      "Epoch   7 Batch  450/1077 - Loss: 0.0139\n",
      "Epoch   7 Batch  500/1077 - Loss: 0.0112\n",
      "Epoch   7 Batch  550/1077 - Loss: 0.0144\n",
      "Epoch   7 Batch  600/1077 - Loss: 0.0211\n",
      "Epoch   7 Batch  650/1077 - Loss: 0.0079\n",
      "Epoch   7 Batch  700/1077 - Loss: 0.0092\n",
      "Epoch   7 Batch  750/1077 - Loss: 0.0092\n",
      "Epoch   7 Batch  800/1077 - Loss: 0.0151\n",
      "Epoch   7 Batch  850/1077 - Loss: 0.0112\n",
      "Epoch   7 Batch  900/1077 - Loss: 0.0119\n",
      "Epoch   7 Batch  950/1077 - Loss: 0.0117\n",
      "Epoch   7 Batch 1000/1077 - Loss: 0.0159\n",
      "Epoch   7 Batch 1050/1077 - Loss: 0.0121\n",
      "Epoch   8 Batch   50/1077 - Loss: 0.0163\n",
      "Epoch   8 Batch  100/1077 - Loss: 0.0094\n",
      "Epoch   8 Batch  150/1077 - Loss: 0.0087\n",
      "Epoch   8 Batch  200/1077 - Loss: 0.0100\n",
      "Epoch   8 Batch  250/1077 - Loss: 0.0107\n",
      "Epoch   8 Batch  300/1077 - Loss: 0.0117\n",
      "Epoch   8 Batch  350/1077 - Loss: 0.0104\n",
      "Epoch   8 Batch  400/1077 - Loss: 0.0116\n",
      "Epoch   8 Batch  450/1077 - Loss: 0.0118\n",
      "Epoch   8 Batch  500/1077 - Loss: 0.0094\n",
      "Epoch   8 Batch  550/1077 - Loss: 0.0126\n",
      "Epoch   8 Batch  600/1077 - Loss: 0.0178\n",
      "Epoch   8 Batch  650/1077 - Loss: 0.0078\n",
      "Epoch   8 Batch  700/1077 - Loss: 0.0078\n",
      "Epoch   8 Batch  750/1077 - Loss: 0.0079\n",
      "Epoch   8 Batch  800/1077 - Loss: 0.0133\n",
      "Epoch   8 Batch  850/1077 - Loss: 0.0096\n",
      "Epoch   8 Batch  900/1077 - Loss: 0.0106\n",
      "Epoch   8 Batch  950/1077 - Loss: 0.0105\n",
      "Epoch   8 Batch 1000/1077 - Loss: 0.0135\n",
      "Epoch   8 Batch 1050/1077 - Loss: 0.0096\n",
      "Epoch   9 Batch   50/1077 - Loss: 0.0138\n",
      "Epoch   9 Batch  100/1077 - Loss: 0.0076\n",
      "Epoch   9 Batch  150/1077 - Loss: 0.0073\n",
      "Epoch   9 Batch  200/1077 - Loss: 0.0087\n",
      "Epoch   9 Batch  250/1077 - Loss: 0.0093\n",
      "Epoch   9 Batch  300/1077 - Loss: 0.0106\n",
      "Epoch   9 Batch  350/1077 - Loss: 0.0092\n",
      "Epoch   9 Batch  400/1077 - Loss: 0.0103\n",
      "Epoch   9 Batch  450/1077 - Loss: 0.0105\n",
      "Epoch   9 Batch  500/1077 - Loss: 0.0083\n",
      "Epoch   9 Batch  550/1077 - Loss: 0.0112\n"
     ]
    },
    {
     "name": "stdout",
     "output_type": "stream",
     "text": [
      "Epoch   9 Batch  600/1077 - Loss: 0.0149\n",
      "Epoch   9 Batch  650/1077 - Loss: 0.0069\n",
      "Epoch   9 Batch  700/1077 - Loss: 0.0065\n",
      "Epoch   9 Batch  750/1077 - Loss: 0.0073\n",
      "Epoch   9 Batch  800/1077 - Loss: 0.0123\n",
      "Epoch   9 Batch  850/1077 - Loss: 0.0082\n",
      "Epoch   9 Batch  900/1077 - Loss: 0.0109\n",
      "Epoch   9 Batch  950/1077 - Loss: 0.0104\n",
      "Epoch   9 Batch 1000/1077 - Loss: 0.0119\n",
      "Epoch   9 Batch 1050/1077 - Loss: 0.0087\n",
      "Model Trained and Saved\n"
     ]
    }
   ],
   "source": [
    "with tf.Session(graph=train_graph) as sess:\n",
    "    sess.run(tf.global_variables_initializer())\n",
    "\n",
    "    for epoch_i in range(epochs):\n",
    "        for batch_i, (source_batch, target_batch, sources_lengths, targets_lengths) in enumerate(\n",
    "                get_batches(source_text_to_int, target_text_to_int, batch_size)):\n",
    "    \n",
    "            _, loss = sess.run(\n",
    "                [train_op, cost],\n",
    "                {inputs: source_batch,\n",
    "                 targets: target_batch,\n",
    "                 learning_rate: lr,\n",
    "                 source_sequence_len: sources_lengths,\n",
    "                 target_sequence_len: targets_lengths})\n",
    "\n",
    "\n",
    "            if batch_i % display_step == 0 and batch_i > 0:\n",
    "\n",
    "\n",
    "                batch_train_logits = sess.run(\n",
    "                    inference_logits,\n",
    "                    {inputs: source_batch,\n",
    "                     source_sequence_len: sources_lengths,\n",
    "                     target_sequence_len: targets_lengths})\n",
    "\n",
    "                print('Epoch {:>3} Batch {:>4}/{} - Loss: {:>6.4f}'\n",
    "                      .format(epoch_i, batch_i, len(source_text_to_int) // batch_size, loss))\n",
    "        \n",
    "    # Save Model\n",
    "    saver = tf.train.Saver()\n",
    "    saver.save(sess, \"checkpoints/dev\")\n",
    "    print('Model Trained and Saved')"
   ]
  },
  {
   "cell_type": "markdown",
   "metadata": {},
   "source": [
    "# Prediction"
   ]
  },
  {
   "cell_type": "code",
   "execution_count": 53,
   "metadata": {},
   "outputs": [],
   "source": [
    "def sentence_to_seq(sentence, source_vocab_to_int):\n",
    "    \"\"\"\n",
    "    Transform sentences to vector\n",
    "    \"\"\"\n",
    "    unk_idx = source_vocab_to_int[\"<UNK>\"]\n",
    "    word_idx = [source_vocab_to_int.get(word, unk_idx) for word in sentence.lower().split()]\n",
    "    \n",
    "    return word_idx"
   ]
  },
  {
   "cell_type": "code",
   "execution_count": null,
   "metadata": {},
   "outputs": [],
   "source": [
    "translate_sentence_text = input(\"Please Enter Sentence：\")"
   ]
  },
  {
   "cell_type": "code",
   "execution_count": 57,
   "metadata": {
    "scrolled": true
   },
   "outputs": [
    {
     "name": "stdout",
     "output_type": "stream",
     "text": [
      "INFO:tensorflow:Restoring parameters from ./checkpoints/dev\n",
      "【Input】\n",
      "  Word Ids:      [129, 221, 155, 192, 55, 8, 197, 103, 170, 105, 192, 168, 80, 137, 209]\n",
      "  English Words: ['the', 'united', 'states', 'is', 'busy', 'during', 'spring', ',', 'and', 'it', 'is', 'usually', 'freezing', 'in', 'november']\n",
      "\n",
      "【Prediction】\n",
      "  Word Ids:      [205, 123, 67, 274, 44, 193, 310, 201, 311, 67, 101, 171, 227, 254, 37, 1]\n",
      "  French Words: ['les', 'états-unis', 'est', 'occupé', 'au', 'printemps', ',', 'et', 'il', 'est', 'généralement', 'pluvieux', 'en', 'novembre', '.', '<EOS>']\n",
      "\n",
      "【Full Sentence】\n",
      "les états-unis est occupé au printemps , et il est généralement pluvieux en novembre . <EOS>\n"
     ]
    }
   ],
   "source": [
    "translate_sentence = sentence_to_seq(translate_sentence_text, source_vocab_to_int)\n",
    "\n",
    "loaded_graph = tf.Graph()\n",
    "with tf.Session(graph=loaded_graph) as sess:\n",
    "    # Load saved model\n",
    "    loader = tf.train.import_meta_graph('checkpoints/dev.meta')\n",
    "    loader.restore(sess, tf.train.latest_checkpoint('./checkpoints'))\n",
    "\n",
    "    input_data = loaded_graph.get_tensor_by_name('inputs:0')\n",
    "    logits = loaded_graph.get_tensor_by_name('predictions:0')\n",
    "    target_sequence_length = loaded_graph.get_tensor_by_name('target_sequence_len:0')\n",
    "    source_sequence_length = loaded_graph.get_tensor_by_name('source_sequence_len:0')\n",
    "\n",
    "    translate_logits = sess.run(logits, {input_data: [translate_sentence]*batch_size,\n",
    "                                         target_sequence_length: [len(translate_sentence)*2]*batch_size,\n",
    "                                         source_sequence_length: [len(translate_sentence)]*batch_size})[0]\n",
    "\n",
    "print('【Input】')\n",
    "print('  Word Ids:      {}'.format([i for i in translate_sentence]))\n",
    "print('  English Words: {}'.format([source_int_to_vocab[i] for i in translate_sentence]))\n",
    "\n",
    "print('\\n【Prediction】')\n",
    "print('  Word Ids:      {}'.format([i for i in translate_logits]))\n",
    "print('  French Words: {}'.format([target_int_to_vocab[i] for i in translate_logits]))\n",
    "\n",
    "print(\"\\n【Full Sentence】\")\n",
    "print(\" \".join([target_int_to_vocab[i] for i in translate_logits]))"
   ]
  },
  {
   "cell_type": "markdown",
   "metadata": {},
   "source": [
    "##### the united states is busy in the spring, and it is usually rainy in november"
   ]
  },
  {
   "cell_type": "code",
   "execution_count": null,
   "metadata": {},
   "outputs": [],
   "source": []
  }
 ],
 "metadata": {
  "kernelspec": {
   "display_name": "Python 3",
   "language": "python",
   "name": "python3"
  },
  "language_info": {
   "codemirror_mode": {
    "name": "ipython",
    "version": 3
   },
   "file_extension": ".py",
   "mimetype": "text/x-python",
   "name": "python",
   "nbconvert_exporter": "python",
   "pygments_lexer": "ipython3",
   "version": "3.6.5"
  }
 },
 "nbformat": 4,
 "nbformat_minor": 2
}
